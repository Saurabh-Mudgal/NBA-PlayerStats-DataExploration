{
  "nbformat": 4,
  "nbformat_minor": 2,
  "metadata": {
    "colab": {
      "name": "pandas-read-html-for-webscraping.ipynb",
      "provenance": [],
      "collapsed_sections": []
    },
    "kernelspec": {
      "name": "python3",
      "display_name": "Python 3.7.10 64-bit ('ml-agents': conda)"
    },
    "language_info": {
      "name": "python",
      "version": "3.7.10",
      "mimetype": "text/x-python",
      "codemirror_mode": {
        "name": "ipython",
        "version": 3
      },
      "pygments_lexer": "ipython3",
      "nbconvert_exporter": "python",
      "file_extension": ".py"
    },
    "interpreter": {
      "hash": "e8d5bedb6cd00bb3d1b6ef2a1f585dd35a05ff792c8d28a658861760d3d61790"
    }
  },
  "cells": [
    {
      "cell_type": "markdown",
      "source": [
        "# **Using pandas read_html to Web Scrape Data for Data Science** \r\n",
        "\r\n",
        "We will be scraping data using pandas read_html() function for our data science project. We will be web scraping NBA player stats data and perform a quick data exploration."
      ],
      "metadata": {
        "id": "5WNm0Jm7Sg_B",
        "colab_type": "text"
      }
    },
    {
      "cell_type": "markdown",
      "source": [
        "## **URL to the webpage \"2018-19 NBA Player Stats: Per Game\"**"
      ],
      "metadata": {
        "id": "jsGSzqADSa0o",
        "colab_type": "text"
      }
    },
    {
      "cell_type": "markdown",
      "source": [
        "### Method 1\r\n",
        "\r\n",
        "We could modularize the URL and year strings of text that may be useful for programmatic access (in the subsequent code cell)."
      ],
      "metadata": {
        "id": "-AQZU0n4StVq",
        "colab_type": "text"
      }
    },
    {
      "cell_type": "code",
      "execution_count": 2,
      "source": [
        "# The Building Blocks\r\n",
        "year = '2020'\r\n",
        "url_link = 'https://www.basketball-reference.com/leagues/NBA_{}_per_game.html'\r\n",
        "\r\n",
        "# Combining the URL + year strings together\r\n",
        "url = url_link.format(year)\r\n",
        "url"
      ],
      "outputs": [
        {
          "output_type": "execute_result",
          "data": {
            "text/plain": [
              "'https://www.basketball-reference.com/leagues/NBA_2020_per_game.html'"
            ]
          },
          "metadata": {},
          "execution_count": 2
        }
      ],
      "metadata": {
        "id": "pGkHgtANQ4b2",
        "colab_type": "code",
        "outputId": "ff2ecd23-f31c-4b41-ab47-fa85bbfc04b3",
        "colab": {
          "base_uri": "https://localhost:8080/",
          "height": 35
        }
      }
    },
    {
      "cell_type": "markdown",
      "source": [
        "Similarly, we can return a list of URL given a list of years (e.g. 2015,2016,2017,2018,2019)."
      ],
      "metadata": {
        "id": "ySZux1-hWLbX",
        "colab_type": "text"
      }
    },
    {
      "cell_type": "code",
      "execution_count": 3,
      "source": [
        "years = [2015,2016,2017,2018,2019]\r\n",
        "url_link = 'https://www.basketball-reference.com/leagues/NBA_{}_per_game.html'\r\n",
        "\r\n",
        "for year in years:\r\n",
        "  url = url_link.format(year)\r\n",
        "  print(url)"
      ],
      "outputs": [
        {
          "output_type": "stream",
          "name": "stdout",
          "text": [
            "https://www.basketball-reference.com/leagues/NBA_2015_per_game.html\n",
            "https://www.basketball-reference.com/leagues/NBA_2016_per_game.html\n",
            "https://www.basketball-reference.com/leagues/NBA_2017_per_game.html\n",
            "https://www.basketball-reference.com/leagues/NBA_2018_per_game.html\n",
            "https://www.basketball-reference.com/leagues/NBA_2019_per_game.html\n"
          ]
        }
      ],
      "metadata": {
        "id": "JSw9Q7s7VQyd",
        "colab_type": "code",
        "outputId": "405110a8-72a6-4172-eb17-1c229a2e9341",
        "colab": {
          "base_uri": "https://localhost:8080/",
          "height": 107
        }
      }
    },
    {
      "cell_type": "markdown",
      "source": [
        "### Method 2\r\n",
        "\r\n",
        "We can directly fed the url"
      ],
      "metadata": {
        "id": "wlDt8TTxSvEz",
        "colab_type": "text"
      }
    },
    {
      "cell_type": "code",
      "execution_count": 4,
      "source": [
        "url = 'https://www.basketball-reference.com/leagues/NBA_2020_per_game.html'"
      ],
      "outputs": [],
      "metadata": {
        "id": "-x78Rt_iRmCa",
        "colab_type": "code",
        "colab": {}
      }
    },
    {
      "cell_type": "markdown",
      "source": [
        "## **Read HTML webpage into pandas**"
      ],
      "metadata": {
        "id": "fhVY2xJJS0FU",
        "colab_type": "text"
      }
    },
    {
      "cell_type": "code",
      "execution_count": 5,
      "source": [
        "import pandas as pd"
      ],
      "outputs": [],
      "metadata": {
        "id": "yE_EfE-gPW1a",
        "colab_type": "code",
        "colab": {}
      }
    },
    {
      "cell_type": "markdown",
      "source": [
        "### Using pd.read_html() function to read HTML webpage"
      ],
      "metadata": {
        "id": "Sk1EUVeFUXPq",
        "colab_type": "text"
      }
    },
    {
      "cell_type": "code",
      "execution_count": 6,
      "source": [
        "df = pd.read_html(url, header = 0)\r\n",
        "df"
      ],
      "outputs": [
        {
          "output_type": "execute_result",
          "data": {
            "text/plain": [
              "[      Rk                    Player Pos Age   Tm   G  GS    MP   FG   FGA  ...  \\\n",
              " 0      1              Steven Adams   C  26  OKC  63  63  26.7  4.5   7.6  ...   \n",
              " 1      2               Bam Adebayo  PF  22  MIA  72  72  33.6  6.1  11.0  ...   \n",
              " 2      3         LaMarcus Aldridge   C  34  SAS  53  53  33.1  7.4  15.0  ...   \n",
              " 3      4            Kyle Alexander   C  23  MIA   2   0   6.5  0.5   1.0  ...   \n",
              " 4      5  Nickeil Alexander-Walker  SG  21  NOP  47   1  12.6  2.1   5.7  ...   \n",
              " ..   ...                       ...  ..  ..  ...  ..  ..   ...  ...   ...  ...   \n",
              " 672  525                Trae Young  PG  21  ATL  60  60  35.3  9.1  20.8  ...   \n",
              " 673  526               Cody Zeller   C  27  CHO  58  39  23.1  4.3   8.3  ...   \n",
              " 674  527              Tyler Zeller   C  30  SAS   2   0   2.0  0.5   2.0  ...   \n",
              " 675  528                Ante Žižić   C  23  CLE  22   0  10.0  1.9   3.3  ...   \n",
              " 676  529               Ivica Zubac   C  22  LAC  72  70  18.4  3.3   5.3  ...   \n",
              " \n",
              "       FT%  ORB  DRB   TRB  AST  STL  BLK  TOV   PF   PTS  \n",
              " 0    .582  3.3  6.0   9.3  2.3  0.8  1.1  1.5  1.9  10.9  \n",
              " 1    .691  2.4  7.8  10.2  5.1  1.1  1.3  2.8  2.5  15.9  \n",
              " 2    .827  1.9  5.5   7.4  2.4  0.7  1.6  1.4  2.4  18.9  \n",
              " 3     NaN  1.0  0.5   1.5  0.0  0.0  0.0  0.5  0.5   1.0  \n",
              " 4    .676  0.2  1.6   1.8  1.9  0.4  0.2  1.1  1.2   5.7  \n",
              " ..    ...  ...  ...   ...  ...  ...  ...  ...  ...   ...  \n",
              " 672  .860  0.5  3.7   4.3  9.3  1.1  0.1  4.8  1.7  29.6  \n",
              " 673  .682  2.8  4.3   7.1  1.5  0.7  0.4  1.3  2.4  11.1  \n",
              " 674   NaN  1.5  0.5   2.0  0.0  0.0  0.0  0.0  0.0   1.0  \n",
              " 675  .737  0.8  2.2   3.0  0.3  0.3  0.2  0.5  1.2   4.4  \n",
              " 676  .747  2.7  4.8   7.5  1.1  0.2  0.9  0.8  2.3   8.3  \n",
              " \n",
              " [677 rows x 30 columns]]"
            ]
          },
          "metadata": {},
          "execution_count": 6
        }
      ],
      "metadata": {
        "id": "4sLS78K-S-r2",
        "colab_type": "code",
        "outputId": "7c98cfe0-d520-4752-b000-bb76fa43347b",
        "colab": {
          "base_uri": "https://localhost:8080/",
          "height": 269
        }
      }
    },
    {
      "cell_type": "markdown",
      "source": [
        "### How many tables are there in the webpage?"
      ],
      "metadata": {
        "id": "iVtWB7zuUWIp",
        "colab_type": "text"
      }
    },
    {
      "cell_type": "code",
      "execution_count": 7,
      "source": [
        "len(df)"
      ],
      "outputs": [
        {
          "output_type": "execute_result",
          "data": {
            "text/plain": [
              "1"
            ]
          },
          "metadata": {},
          "execution_count": 7
        }
      ],
      "metadata": {
        "id": "BdIXrthuTApH",
        "colab_type": "code",
        "outputId": "07350119-b55a-49fb-c62d-7d2a680f6248",
        "colab": {
          "base_uri": "https://localhost:8080/",
          "height": 35
        }
      }
    },
    {
      "cell_type": "markdown",
      "source": [
        "### Select the first table"
      ],
      "metadata": {
        "id": "glCMVlkWU6ik",
        "colab_type": "text"
      }
    },
    {
      "cell_type": "code",
      "execution_count": 8,
      "source": [
        "df[0]"
      ],
      "outputs": [
        {
          "output_type": "execute_result",
          "data": {
            "text/plain": [
              "      Rk                    Player Pos Age   Tm   G  GS    MP   FG   FGA  ...  \\\n",
              "0      1              Steven Adams   C  26  OKC  63  63  26.7  4.5   7.6  ...   \n",
              "1      2               Bam Adebayo  PF  22  MIA  72  72  33.6  6.1  11.0  ...   \n",
              "2      3         LaMarcus Aldridge   C  34  SAS  53  53  33.1  7.4  15.0  ...   \n",
              "3      4            Kyle Alexander   C  23  MIA   2   0   6.5  0.5   1.0  ...   \n",
              "4      5  Nickeil Alexander-Walker  SG  21  NOP  47   1  12.6  2.1   5.7  ...   \n",
              "..   ...                       ...  ..  ..  ...  ..  ..   ...  ...   ...  ...   \n",
              "672  525                Trae Young  PG  21  ATL  60  60  35.3  9.1  20.8  ...   \n",
              "673  526               Cody Zeller   C  27  CHO  58  39  23.1  4.3   8.3  ...   \n",
              "674  527              Tyler Zeller   C  30  SAS   2   0   2.0  0.5   2.0  ...   \n",
              "675  528                Ante Žižić   C  23  CLE  22   0  10.0  1.9   3.3  ...   \n",
              "676  529               Ivica Zubac   C  22  LAC  72  70  18.4  3.3   5.3  ...   \n",
              "\n",
              "      FT%  ORB  DRB   TRB  AST  STL  BLK  TOV   PF   PTS  \n",
              "0    .582  3.3  6.0   9.3  2.3  0.8  1.1  1.5  1.9  10.9  \n",
              "1    .691  2.4  7.8  10.2  5.1  1.1  1.3  2.8  2.5  15.9  \n",
              "2    .827  1.9  5.5   7.4  2.4  0.7  1.6  1.4  2.4  18.9  \n",
              "3     NaN  1.0  0.5   1.5  0.0  0.0  0.0  0.5  0.5   1.0  \n",
              "4    .676  0.2  1.6   1.8  1.9  0.4  0.2  1.1  1.2   5.7  \n",
              "..    ...  ...  ...   ...  ...  ...  ...  ...  ...   ...  \n",
              "672  .860  0.5  3.7   4.3  9.3  1.1  0.1  4.8  1.7  29.6  \n",
              "673  .682  2.8  4.3   7.1  1.5  0.7  0.4  1.3  2.4  11.1  \n",
              "674   NaN  1.5  0.5   2.0  0.0  0.0  0.0  0.0  0.0   1.0  \n",
              "675  .737  0.8  2.2   3.0  0.3  0.3  0.2  0.5  1.2   4.4  \n",
              "676  .747  2.7  4.8   7.5  1.1  0.2  0.9  0.8  2.3   8.3  \n",
              "\n",
              "[677 rows x 30 columns]"
            ],
            "text/html": [
              "<div>\n",
              "<style scoped>\n",
              "    .dataframe tbody tr th:only-of-type {\n",
              "        vertical-align: middle;\n",
              "    }\n",
              "\n",
              "    .dataframe tbody tr th {\n",
              "        vertical-align: top;\n",
              "    }\n",
              "\n",
              "    .dataframe thead th {\n",
              "        text-align: right;\n",
              "    }\n",
              "</style>\n",
              "<table border=\"1\" class=\"dataframe\">\n",
              "  <thead>\n",
              "    <tr style=\"text-align: right;\">\n",
              "      <th></th>\n",
              "      <th>Rk</th>\n",
              "      <th>Player</th>\n",
              "      <th>Pos</th>\n",
              "      <th>Age</th>\n",
              "      <th>Tm</th>\n",
              "      <th>G</th>\n",
              "      <th>GS</th>\n",
              "      <th>MP</th>\n",
              "      <th>FG</th>\n",
              "      <th>FGA</th>\n",
              "      <th>...</th>\n",
              "      <th>FT%</th>\n",
              "      <th>ORB</th>\n",
              "      <th>DRB</th>\n",
              "      <th>TRB</th>\n",
              "      <th>AST</th>\n",
              "      <th>STL</th>\n",
              "      <th>BLK</th>\n",
              "      <th>TOV</th>\n",
              "      <th>PF</th>\n",
              "      <th>PTS</th>\n",
              "    </tr>\n",
              "  </thead>\n",
              "  <tbody>\n",
              "    <tr>\n",
              "      <th>0</th>\n",
              "      <td>1</td>\n",
              "      <td>Steven Adams</td>\n",
              "      <td>C</td>\n",
              "      <td>26</td>\n",
              "      <td>OKC</td>\n",
              "      <td>63</td>\n",
              "      <td>63</td>\n",
              "      <td>26.7</td>\n",
              "      <td>4.5</td>\n",
              "      <td>7.6</td>\n",
              "      <td>...</td>\n",
              "      <td>.582</td>\n",
              "      <td>3.3</td>\n",
              "      <td>6.0</td>\n",
              "      <td>9.3</td>\n",
              "      <td>2.3</td>\n",
              "      <td>0.8</td>\n",
              "      <td>1.1</td>\n",
              "      <td>1.5</td>\n",
              "      <td>1.9</td>\n",
              "      <td>10.9</td>\n",
              "    </tr>\n",
              "    <tr>\n",
              "      <th>1</th>\n",
              "      <td>2</td>\n",
              "      <td>Bam Adebayo</td>\n",
              "      <td>PF</td>\n",
              "      <td>22</td>\n",
              "      <td>MIA</td>\n",
              "      <td>72</td>\n",
              "      <td>72</td>\n",
              "      <td>33.6</td>\n",
              "      <td>6.1</td>\n",
              "      <td>11.0</td>\n",
              "      <td>...</td>\n",
              "      <td>.691</td>\n",
              "      <td>2.4</td>\n",
              "      <td>7.8</td>\n",
              "      <td>10.2</td>\n",
              "      <td>5.1</td>\n",
              "      <td>1.1</td>\n",
              "      <td>1.3</td>\n",
              "      <td>2.8</td>\n",
              "      <td>2.5</td>\n",
              "      <td>15.9</td>\n",
              "    </tr>\n",
              "    <tr>\n",
              "      <th>2</th>\n",
              "      <td>3</td>\n",
              "      <td>LaMarcus Aldridge</td>\n",
              "      <td>C</td>\n",
              "      <td>34</td>\n",
              "      <td>SAS</td>\n",
              "      <td>53</td>\n",
              "      <td>53</td>\n",
              "      <td>33.1</td>\n",
              "      <td>7.4</td>\n",
              "      <td>15.0</td>\n",
              "      <td>...</td>\n",
              "      <td>.827</td>\n",
              "      <td>1.9</td>\n",
              "      <td>5.5</td>\n",
              "      <td>7.4</td>\n",
              "      <td>2.4</td>\n",
              "      <td>0.7</td>\n",
              "      <td>1.6</td>\n",
              "      <td>1.4</td>\n",
              "      <td>2.4</td>\n",
              "      <td>18.9</td>\n",
              "    </tr>\n",
              "    <tr>\n",
              "      <th>3</th>\n",
              "      <td>4</td>\n",
              "      <td>Kyle Alexander</td>\n",
              "      <td>C</td>\n",
              "      <td>23</td>\n",
              "      <td>MIA</td>\n",
              "      <td>2</td>\n",
              "      <td>0</td>\n",
              "      <td>6.5</td>\n",
              "      <td>0.5</td>\n",
              "      <td>1.0</td>\n",
              "      <td>...</td>\n",
              "      <td>NaN</td>\n",
              "      <td>1.0</td>\n",
              "      <td>0.5</td>\n",
              "      <td>1.5</td>\n",
              "      <td>0.0</td>\n",
              "      <td>0.0</td>\n",
              "      <td>0.0</td>\n",
              "      <td>0.5</td>\n",
              "      <td>0.5</td>\n",
              "      <td>1.0</td>\n",
              "    </tr>\n",
              "    <tr>\n",
              "      <th>4</th>\n",
              "      <td>5</td>\n",
              "      <td>Nickeil Alexander-Walker</td>\n",
              "      <td>SG</td>\n",
              "      <td>21</td>\n",
              "      <td>NOP</td>\n",
              "      <td>47</td>\n",
              "      <td>1</td>\n",
              "      <td>12.6</td>\n",
              "      <td>2.1</td>\n",
              "      <td>5.7</td>\n",
              "      <td>...</td>\n",
              "      <td>.676</td>\n",
              "      <td>0.2</td>\n",
              "      <td>1.6</td>\n",
              "      <td>1.8</td>\n",
              "      <td>1.9</td>\n",
              "      <td>0.4</td>\n",
              "      <td>0.2</td>\n",
              "      <td>1.1</td>\n",
              "      <td>1.2</td>\n",
              "      <td>5.7</td>\n",
              "    </tr>\n",
              "    <tr>\n",
              "      <th>...</th>\n",
              "      <td>...</td>\n",
              "      <td>...</td>\n",
              "      <td>...</td>\n",
              "      <td>...</td>\n",
              "      <td>...</td>\n",
              "      <td>...</td>\n",
              "      <td>...</td>\n",
              "      <td>...</td>\n",
              "      <td>...</td>\n",
              "      <td>...</td>\n",
              "      <td>...</td>\n",
              "      <td>...</td>\n",
              "      <td>...</td>\n",
              "      <td>...</td>\n",
              "      <td>...</td>\n",
              "      <td>...</td>\n",
              "      <td>...</td>\n",
              "      <td>...</td>\n",
              "      <td>...</td>\n",
              "      <td>...</td>\n",
              "      <td>...</td>\n",
              "    </tr>\n",
              "    <tr>\n",
              "      <th>672</th>\n",
              "      <td>525</td>\n",
              "      <td>Trae Young</td>\n",
              "      <td>PG</td>\n",
              "      <td>21</td>\n",
              "      <td>ATL</td>\n",
              "      <td>60</td>\n",
              "      <td>60</td>\n",
              "      <td>35.3</td>\n",
              "      <td>9.1</td>\n",
              "      <td>20.8</td>\n",
              "      <td>...</td>\n",
              "      <td>.860</td>\n",
              "      <td>0.5</td>\n",
              "      <td>3.7</td>\n",
              "      <td>4.3</td>\n",
              "      <td>9.3</td>\n",
              "      <td>1.1</td>\n",
              "      <td>0.1</td>\n",
              "      <td>4.8</td>\n",
              "      <td>1.7</td>\n",
              "      <td>29.6</td>\n",
              "    </tr>\n",
              "    <tr>\n",
              "      <th>673</th>\n",
              "      <td>526</td>\n",
              "      <td>Cody Zeller</td>\n",
              "      <td>C</td>\n",
              "      <td>27</td>\n",
              "      <td>CHO</td>\n",
              "      <td>58</td>\n",
              "      <td>39</td>\n",
              "      <td>23.1</td>\n",
              "      <td>4.3</td>\n",
              "      <td>8.3</td>\n",
              "      <td>...</td>\n",
              "      <td>.682</td>\n",
              "      <td>2.8</td>\n",
              "      <td>4.3</td>\n",
              "      <td>7.1</td>\n",
              "      <td>1.5</td>\n",
              "      <td>0.7</td>\n",
              "      <td>0.4</td>\n",
              "      <td>1.3</td>\n",
              "      <td>2.4</td>\n",
              "      <td>11.1</td>\n",
              "    </tr>\n",
              "    <tr>\n",
              "      <th>674</th>\n",
              "      <td>527</td>\n",
              "      <td>Tyler Zeller</td>\n",
              "      <td>C</td>\n",
              "      <td>30</td>\n",
              "      <td>SAS</td>\n",
              "      <td>2</td>\n",
              "      <td>0</td>\n",
              "      <td>2.0</td>\n",
              "      <td>0.5</td>\n",
              "      <td>2.0</td>\n",
              "      <td>...</td>\n",
              "      <td>NaN</td>\n",
              "      <td>1.5</td>\n",
              "      <td>0.5</td>\n",
              "      <td>2.0</td>\n",
              "      <td>0.0</td>\n",
              "      <td>0.0</td>\n",
              "      <td>0.0</td>\n",
              "      <td>0.0</td>\n",
              "      <td>0.0</td>\n",
              "      <td>1.0</td>\n",
              "    </tr>\n",
              "    <tr>\n",
              "      <th>675</th>\n",
              "      <td>528</td>\n",
              "      <td>Ante Žižić</td>\n",
              "      <td>C</td>\n",
              "      <td>23</td>\n",
              "      <td>CLE</td>\n",
              "      <td>22</td>\n",
              "      <td>0</td>\n",
              "      <td>10.0</td>\n",
              "      <td>1.9</td>\n",
              "      <td>3.3</td>\n",
              "      <td>...</td>\n",
              "      <td>.737</td>\n",
              "      <td>0.8</td>\n",
              "      <td>2.2</td>\n",
              "      <td>3.0</td>\n",
              "      <td>0.3</td>\n",
              "      <td>0.3</td>\n",
              "      <td>0.2</td>\n",
              "      <td>0.5</td>\n",
              "      <td>1.2</td>\n",
              "      <td>4.4</td>\n",
              "    </tr>\n",
              "    <tr>\n",
              "      <th>676</th>\n",
              "      <td>529</td>\n",
              "      <td>Ivica Zubac</td>\n",
              "      <td>C</td>\n",
              "      <td>22</td>\n",
              "      <td>LAC</td>\n",
              "      <td>72</td>\n",
              "      <td>70</td>\n",
              "      <td>18.4</td>\n",
              "      <td>3.3</td>\n",
              "      <td>5.3</td>\n",
              "      <td>...</td>\n",
              "      <td>.747</td>\n",
              "      <td>2.7</td>\n",
              "      <td>4.8</td>\n",
              "      <td>7.5</td>\n",
              "      <td>1.1</td>\n",
              "      <td>0.2</td>\n",
              "      <td>0.9</td>\n",
              "      <td>0.8</td>\n",
              "      <td>2.3</td>\n",
              "      <td>8.3</td>\n",
              "    </tr>\n",
              "  </tbody>\n",
              "</table>\n",
              "<p>677 rows × 30 columns</p>\n",
              "</div>"
            ]
          },
          "metadata": {},
          "execution_count": 8
        }
      ],
      "metadata": {
        "id": "Pv0NHbFeTrEp",
        "colab_type": "code",
        "outputId": "f54f309e-6321-4267-9bb1-d0a9c6c050a9",
        "colab": {
          "base_uri": "https://localhost:8080/",
          "height": 609
        }
      }
    },
    {
      "cell_type": "code",
      "execution_count": 9,
      "source": [
        "df2020 = df[0]"
      ],
      "outputs": [],
      "metadata": {
        "id": "owwSCuZYU-sT",
        "colab_type": "code",
        "colab": {}
      }
    },
    {
      "cell_type": "markdown",
      "source": [
        "## Data cleaning"
      ],
      "metadata": {
        "id": "laW205ykvn0S",
        "colab_type": "text"
      }
    },
    {
      "cell_type": "markdown",
      "source": [
        "Notice that the table header is presented multiple times in several rows. This needs to be taken care of in pre-processing."
      ],
      "metadata": {
        "id": "b-cH41xd54Tw",
        "colab_type": "text"
      }
    },
    {
      "cell_type": "code",
      "execution_count": 10,
      "source": [
        "df2020[df2020.Age == 'Age']"
      ],
      "outputs": [
        {
          "output_type": "execute_result",
          "data": {
            "text/plain": [
              "     Rk  Player  Pos  Age  Tm  G  GS  MP  FG  FGA  ...  FT%  ORB  DRB  TRB  \\\n",
              "22   Rk  Player  Pos  Age  Tm  G  GS  MP  FG  FGA  ...  FT%  ORB  DRB  TRB   \n",
              "53   Rk  Player  Pos  Age  Tm  G  GS  MP  FG  FGA  ...  FT%  ORB  DRB  TRB   \n",
              "76   Rk  Player  Pos  Age  Tm  G  GS  MP  FG  FGA  ...  FT%  ORB  DRB  TRB   \n",
              "101  Rk  Player  Pos  Age  Tm  G  GS  MP  FG  FGA  ...  FT%  ORB  DRB  TRB   \n",
              "130  Rk  Player  Pos  Age  Tm  G  GS  MP  FG  FGA  ...  FT%  ORB  DRB  TRB   \n",
              "163  Rk  Player  Pos  Age  Tm  G  GS  MP  FG  FGA  ...  FT%  ORB  DRB  TRB   \n",
              "192  Rk  Player  Pos  Age  Tm  G  GS  MP  FG  FGA  ...  FT%  ORB  DRB  TRB   \n",
              "219  Rk  Player  Pos  Age  Tm  G  GS  MP  FG  FGA  ...  FT%  ORB  DRB  TRB   \n",
              "242  Rk  Player  Pos  Age  Tm  G  GS  MP  FG  FGA  ...  FT%  ORB  DRB  TRB   \n",
              "271  Rk  Player  Pos  Age  Tm  G  GS  MP  FG  FGA  ...  FT%  ORB  DRB  TRB   \n",
              "298  Rk  Player  Pos  Age  Tm  G  GS  MP  FG  FGA  ...  FT%  ORB  DRB  TRB   \n",
              "319  Rk  Player  Pos  Age  Tm  G  GS  MP  FG  FGA  ...  FT%  ORB  DRB  TRB   \n",
              "346  Rk  Player  Pos  Age  Tm  G  GS  MP  FG  FGA  ...  FT%  ORB  DRB  TRB   \n",
              "371  Rk  Player  Pos  Age  Tm  G  GS  MP  FG  FGA  ...  FT%  ORB  DRB  TRB   \n",
              "394  Rk  Player  Pos  Age  Tm  G  GS  MP  FG  FGA  ...  FT%  ORB  DRB  TRB   \n",
              "415  Rk  Player  Pos  Age  Tm  G  GS  MP  FG  FGA  ...  FT%  ORB  DRB  TRB   \n",
              "439  Rk  Player  Pos  Age  Tm  G  GS  MP  FG  FGA  ...  FT%  ORB  DRB  TRB   \n",
              "464  Rk  Player  Pos  Age  Tm  G  GS  MP  FG  FGA  ...  FT%  ORB  DRB  TRB   \n",
              "489  Rk  Player  Pos  Age  Tm  G  GS  MP  FG  FGA  ...  FT%  ORB  DRB  TRB   \n",
              "512  Rk  Player  Pos  Age  Tm  G  GS  MP  FG  FGA  ...  FT%  ORB  DRB  TRB   \n",
              "533  Rk  Player  Pos  Age  Tm  G  GS  MP  FG  FGA  ...  FT%  ORB  DRB  TRB   \n",
              "560  Rk  Player  Pos  Age  Tm  G  GS  MP  FG  FGA  ...  FT%  ORB  DRB  TRB   \n",
              "581  Rk  Player  Pos  Age  Tm  G  GS  MP  FG  FGA  ...  FT%  ORB  DRB  TRB   \n",
              "609  Rk  Player  Pos  Age  Tm  G  GS  MP  FG  FGA  ...  FT%  ORB  DRB  TRB   \n",
              "640  Rk  Player  Pos  Age  Tm  G  GS  MP  FG  FGA  ...  FT%  ORB  DRB  TRB   \n",
              "667  Rk  Player  Pos  Age  Tm  G  GS  MP  FG  FGA  ...  FT%  ORB  DRB  TRB   \n",
              "\n",
              "     AST  STL  BLK  TOV  PF  PTS  \n",
              "22   AST  STL  BLK  TOV  PF  PTS  \n",
              "53   AST  STL  BLK  TOV  PF  PTS  \n",
              "76   AST  STL  BLK  TOV  PF  PTS  \n",
              "101  AST  STL  BLK  TOV  PF  PTS  \n",
              "130  AST  STL  BLK  TOV  PF  PTS  \n",
              "163  AST  STL  BLK  TOV  PF  PTS  \n",
              "192  AST  STL  BLK  TOV  PF  PTS  \n",
              "219  AST  STL  BLK  TOV  PF  PTS  \n",
              "242  AST  STL  BLK  TOV  PF  PTS  \n",
              "271  AST  STL  BLK  TOV  PF  PTS  \n",
              "298  AST  STL  BLK  TOV  PF  PTS  \n",
              "319  AST  STL  BLK  TOV  PF  PTS  \n",
              "346  AST  STL  BLK  TOV  PF  PTS  \n",
              "371  AST  STL  BLK  TOV  PF  PTS  \n",
              "394  AST  STL  BLK  TOV  PF  PTS  \n",
              "415  AST  STL  BLK  TOV  PF  PTS  \n",
              "439  AST  STL  BLK  TOV  PF  PTS  \n",
              "464  AST  STL  BLK  TOV  PF  PTS  \n",
              "489  AST  STL  BLK  TOV  PF  PTS  \n",
              "512  AST  STL  BLK  TOV  PF  PTS  \n",
              "533  AST  STL  BLK  TOV  PF  PTS  \n",
              "560  AST  STL  BLK  TOV  PF  PTS  \n",
              "581  AST  STL  BLK  TOV  PF  PTS  \n",
              "609  AST  STL  BLK  TOV  PF  PTS  \n",
              "640  AST  STL  BLK  TOV  PF  PTS  \n",
              "667  AST  STL  BLK  TOV  PF  PTS  \n",
              "\n",
              "[26 rows x 30 columns]"
            ],
            "text/html": [
              "<div>\n",
              "<style scoped>\n",
              "    .dataframe tbody tr th:only-of-type {\n",
              "        vertical-align: middle;\n",
              "    }\n",
              "\n",
              "    .dataframe tbody tr th {\n",
              "        vertical-align: top;\n",
              "    }\n",
              "\n",
              "    .dataframe thead th {\n",
              "        text-align: right;\n",
              "    }\n",
              "</style>\n",
              "<table border=\"1\" class=\"dataframe\">\n",
              "  <thead>\n",
              "    <tr style=\"text-align: right;\">\n",
              "      <th></th>\n",
              "      <th>Rk</th>\n",
              "      <th>Player</th>\n",
              "      <th>Pos</th>\n",
              "      <th>Age</th>\n",
              "      <th>Tm</th>\n",
              "      <th>G</th>\n",
              "      <th>GS</th>\n",
              "      <th>MP</th>\n",
              "      <th>FG</th>\n",
              "      <th>FGA</th>\n",
              "      <th>...</th>\n",
              "      <th>FT%</th>\n",
              "      <th>ORB</th>\n",
              "      <th>DRB</th>\n",
              "      <th>TRB</th>\n",
              "      <th>AST</th>\n",
              "      <th>STL</th>\n",
              "      <th>BLK</th>\n",
              "      <th>TOV</th>\n",
              "      <th>PF</th>\n",
              "      <th>PTS</th>\n",
              "    </tr>\n",
              "  </thead>\n",
              "  <tbody>\n",
              "    <tr>\n",
              "      <th>22</th>\n",
              "      <td>Rk</td>\n",
              "      <td>Player</td>\n",
              "      <td>Pos</td>\n",
              "      <td>Age</td>\n",
              "      <td>Tm</td>\n",
              "      <td>G</td>\n",
              "      <td>GS</td>\n",
              "      <td>MP</td>\n",
              "      <td>FG</td>\n",
              "      <td>FGA</td>\n",
              "      <td>...</td>\n",
              "      <td>FT%</td>\n",
              "      <td>ORB</td>\n",
              "      <td>DRB</td>\n",
              "      <td>TRB</td>\n",
              "      <td>AST</td>\n",
              "      <td>STL</td>\n",
              "      <td>BLK</td>\n",
              "      <td>TOV</td>\n",
              "      <td>PF</td>\n",
              "      <td>PTS</td>\n",
              "    </tr>\n",
              "    <tr>\n",
              "      <th>53</th>\n",
              "      <td>Rk</td>\n",
              "      <td>Player</td>\n",
              "      <td>Pos</td>\n",
              "      <td>Age</td>\n",
              "      <td>Tm</td>\n",
              "      <td>G</td>\n",
              "      <td>GS</td>\n",
              "      <td>MP</td>\n",
              "      <td>FG</td>\n",
              "      <td>FGA</td>\n",
              "      <td>...</td>\n",
              "      <td>FT%</td>\n",
              "      <td>ORB</td>\n",
              "      <td>DRB</td>\n",
              "      <td>TRB</td>\n",
              "      <td>AST</td>\n",
              "      <td>STL</td>\n",
              "      <td>BLK</td>\n",
              "      <td>TOV</td>\n",
              "      <td>PF</td>\n",
              "      <td>PTS</td>\n",
              "    </tr>\n",
              "    <tr>\n",
              "      <th>76</th>\n",
              "      <td>Rk</td>\n",
              "      <td>Player</td>\n",
              "      <td>Pos</td>\n",
              "      <td>Age</td>\n",
              "      <td>Tm</td>\n",
              "      <td>G</td>\n",
              "      <td>GS</td>\n",
              "      <td>MP</td>\n",
              "      <td>FG</td>\n",
              "      <td>FGA</td>\n",
              "      <td>...</td>\n",
              "      <td>FT%</td>\n",
              "      <td>ORB</td>\n",
              "      <td>DRB</td>\n",
              "      <td>TRB</td>\n",
              "      <td>AST</td>\n",
              "      <td>STL</td>\n",
              "      <td>BLK</td>\n",
              "      <td>TOV</td>\n",
              "      <td>PF</td>\n",
              "      <td>PTS</td>\n",
              "    </tr>\n",
              "    <tr>\n",
              "      <th>101</th>\n",
              "      <td>Rk</td>\n",
              "      <td>Player</td>\n",
              "      <td>Pos</td>\n",
              "      <td>Age</td>\n",
              "      <td>Tm</td>\n",
              "      <td>G</td>\n",
              "      <td>GS</td>\n",
              "      <td>MP</td>\n",
              "      <td>FG</td>\n",
              "      <td>FGA</td>\n",
              "      <td>...</td>\n",
              "      <td>FT%</td>\n",
              "      <td>ORB</td>\n",
              "      <td>DRB</td>\n",
              "      <td>TRB</td>\n",
              "      <td>AST</td>\n",
              "      <td>STL</td>\n",
              "      <td>BLK</td>\n",
              "      <td>TOV</td>\n",
              "      <td>PF</td>\n",
              "      <td>PTS</td>\n",
              "    </tr>\n",
              "    <tr>\n",
              "      <th>130</th>\n",
              "      <td>Rk</td>\n",
              "      <td>Player</td>\n",
              "      <td>Pos</td>\n",
              "      <td>Age</td>\n",
              "      <td>Tm</td>\n",
              "      <td>G</td>\n",
              "      <td>GS</td>\n",
              "      <td>MP</td>\n",
              "      <td>FG</td>\n",
              "      <td>FGA</td>\n",
              "      <td>...</td>\n",
              "      <td>FT%</td>\n",
              "      <td>ORB</td>\n",
              "      <td>DRB</td>\n",
              "      <td>TRB</td>\n",
              "      <td>AST</td>\n",
              "      <td>STL</td>\n",
              "      <td>BLK</td>\n",
              "      <td>TOV</td>\n",
              "      <td>PF</td>\n",
              "      <td>PTS</td>\n",
              "    </tr>\n",
              "    <tr>\n",
              "      <th>163</th>\n",
              "      <td>Rk</td>\n",
              "      <td>Player</td>\n",
              "      <td>Pos</td>\n",
              "      <td>Age</td>\n",
              "      <td>Tm</td>\n",
              "      <td>G</td>\n",
              "      <td>GS</td>\n",
              "      <td>MP</td>\n",
              "      <td>FG</td>\n",
              "      <td>FGA</td>\n",
              "      <td>...</td>\n",
              "      <td>FT%</td>\n",
              "      <td>ORB</td>\n",
              "      <td>DRB</td>\n",
              "      <td>TRB</td>\n",
              "      <td>AST</td>\n",
              "      <td>STL</td>\n",
              "      <td>BLK</td>\n",
              "      <td>TOV</td>\n",
              "      <td>PF</td>\n",
              "      <td>PTS</td>\n",
              "    </tr>\n",
              "    <tr>\n",
              "      <th>192</th>\n",
              "      <td>Rk</td>\n",
              "      <td>Player</td>\n",
              "      <td>Pos</td>\n",
              "      <td>Age</td>\n",
              "      <td>Tm</td>\n",
              "      <td>G</td>\n",
              "      <td>GS</td>\n",
              "      <td>MP</td>\n",
              "      <td>FG</td>\n",
              "      <td>FGA</td>\n",
              "      <td>...</td>\n",
              "      <td>FT%</td>\n",
              "      <td>ORB</td>\n",
              "      <td>DRB</td>\n",
              "      <td>TRB</td>\n",
              "      <td>AST</td>\n",
              "      <td>STL</td>\n",
              "      <td>BLK</td>\n",
              "      <td>TOV</td>\n",
              "      <td>PF</td>\n",
              "      <td>PTS</td>\n",
              "    </tr>\n",
              "    <tr>\n",
              "      <th>219</th>\n",
              "      <td>Rk</td>\n",
              "      <td>Player</td>\n",
              "      <td>Pos</td>\n",
              "      <td>Age</td>\n",
              "      <td>Tm</td>\n",
              "      <td>G</td>\n",
              "      <td>GS</td>\n",
              "      <td>MP</td>\n",
              "      <td>FG</td>\n",
              "      <td>FGA</td>\n",
              "      <td>...</td>\n",
              "      <td>FT%</td>\n",
              "      <td>ORB</td>\n",
              "      <td>DRB</td>\n",
              "      <td>TRB</td>\n",
              "      <td>AST</td>\n",
              "      <td>STL</td>\n",
              "      <td>BLK</td>\n",
              "      <td>TOV</td>\n",
              "      <td>PF</td>\n",
              "      <td>PTS</td>\n",
              "    </tr>\n",
              "    <tr>\n",
              "      <th>242</th>\n",
              "      <td>Rk</td>\n",
              "      <td>Player</td>\n",
              "      <td>Pos</td>\n",
              "      <td>Age</td>\n",
              "      <td>Tm</td>\n",
              "      <td>G</td>\n",
              "      <td>GS</td>\n",
              "      <td>MP</td>\n",
              "      <td>FG</td>\n",
              "      <td>FGA</td>\n",
              "      <td>...</td>\n",
              "      <td>FT%</td>\n",
              "      <td>ORB</td>\n",
              "      <td>DRB</td>\n",
              "      <td>TRB</td>\n",
              "      <td>AST</td>\n",
              "      <td>STL</td>\n",
              "      <td>BLK</td>\n",
              "      <td>TOV</td>\n",
              "      <td>PF</td>\n",
              "      <td>PTS</td>\n",
              "    </tr>\n",
              "    <tr>\n",
              "      <th>271</th>\n",
              "      <td>Rk</td>\n",
              "      <td>Player</td>\n",
              "      <td>Pos</td>\n",
              "      <td>Age</td>\n",
              "      <td>Tm</td>\n",
              "      <td>G</td>\n",
              "      <td>GS</td>\n",
              "      <td>MP</td>\n",
              "      <td>FG</td>\n",
              "      <td>FGA</td>\n",
              "      <td>...</td>\n",
              "      <td>FT%</td>\n",
              "      <td>ORB</td>\n",
              "      <td>DRB</td>\n",
              "      <td>TRB</td>\n",
              "      <td>AST</td>\n",
              "      <td>STL</td>\n",
              "      <td>BLK</td>\n",
              "      <td>TOV</td>\n",
              "      <td>PF</td>\n",
              "      <td>PTS</td>\n",
              "    </tr>\n",
              "    <tr>\n",
              "      <th>298</th>\n",
              "      <td>Rk</td>\n",
              "      <td>Player</td>\n",
              "      <td>Pos</td>\n",
              "      <td>Age</td>\n",
              "      <td>Tm</td>\n",
              "      <td>G</td>\n",
              "      <td>GS</td>\n",
              "      <td>MP</td>\n",
              "      <td>FG</td>\n",
              "      <td>FGA</td>\n",
              "      <td>...</td>\n",
              "      <td>FT%</td>\n",
              "      <td>ORB</td>\n",
              "      <td>DRB</td>\n",
              "      <td>TRB</td>\n",
              "      <td>AST</td>\n",
              "      <td>STL</td>\n",
              "      <td>BLK</td>\n",
              "      <td>TOV</td>\n",
              "      <td>PF</td>\n",
              "      <td>PTS</td>\n",
              "    </tr>\n",
              "    <tr>\n",
              "      <th>319</th>\n",
              "      <td>Rk</td>\n",
              "      <td>Player</td>\n",
              "      <td>Pos</td>\n",
              "      <td>Age</td>\n",
              "      <td>Tm</td>\n",
              "      <td>G</td>\n",
              "      <td>GS</td>\n",
              "      <td>MP</td>\n",
              "      <td>FG</td>\n",
              "      <td>FGA</td>\n",
              "      <td>...</td>\n",
              "      <td>FT%</td>\n",
              "      <td>ORB</td>\n",
              "      <td>DRB</td>\n",
              "      <td>TRB</td>\n",
              "      <td>AST</td>\n",
              "      <td>STL</td>\n",
              "      <td>BLK</td>\n",
              "      <td>TOV</td>\n",
              "      <td>PF</td>\n",
              "      <td>PTS</td>\n",
              "    </tr>\n",
              "    <tr>\n",
              "      <th>346</th>\n",
              "      <td>Rk</td>\n",
              "      <td>Player</td>\n",
              "      <td>Pos</td>\n",
              "      <td>Age</td>\n",
              "      <td>Tm</td>\n",
              "      <td>G</td>\n",
              "      <td>GS</td>\n",
              "      <td>MP</td>\n",
              "      <td>FG</td>\n",
              "      <td>FGA</td>\n",
              "      <td>...</td>\n",
              "      <td>FT%</td>\n",
              "      <td>ORB</td>\n",
              "      <td>DRB</td>\n",
              "      <td>TRB</td>\n",
              "      <td>AST</td>\n",
              "      <td>STL</td>\n",
              "      <td>BLK</td>\n",
              "      <td>TOV</td>\n",
              "      <td>PF</td>\n",
              "      <td>PTS</td>\n",
              "    </tr>\n",
              "    <tr>\n",
              "      <th>371</th>\n",
              "      <td>Rk</td>\n",
              "      <td>Player</td>\n",
              "      <td>Pos</td>\n",
              "      <td>Age</td>\n",
              "      <td>Tm</td>\n",
              "      <td>G</td>\n",
              "      <td>GS</td>\n",
              "      <td>MP</td>\n",
              "      <td>FG</td>\n",
              "      <td>FGA</td>\n",
              "      <td>...</td>\n",
              "      <td>FT%</td>\n",
              "      <td>ORB</td>\n",
              "      <td>DRB</td>\n",
              "      <td>TRB</td>\n",
              "      <td>AST</td>\n",
              "      <td>STL</td>\n",
              "      <td>BLK</td>\n",
              "      <td>TOV</td>\n",
              "      <td>PF</td>\n",
              "      <td>PTS</td>\n",
              "    </tr>\n",
              "    <tr>\n",
              "      <th>394</th>\n",
              "      <td>Rk</td>\n",
              "      <td>Player</td>\n",
              "      <td>Pos</td>\n",
              "      <td>Age</td>\n",
              "      <td>Tm</td>\n",
              "      <td>G</td>\n",
              "      <td>GS</td>\n",
              "      <td>MP</td>\n",
              "      <td>FG</td>\n",
              "      <td>FGA</td>\n",
              "      <td>...</td>\n",
              "      <td>FT%</td>\n",
              "      <td>ORB</td>\n",
              "      <td>DRB</td>\n",
              "      <td>TRB</td>\n",
              "      <td>AST</td>\n",
              "      <td>STL</td>\n",
              "      <td>BLK</td>\n",
              "      <td>TOV</td>\n",
              "      <td>PF</td>\n",
              "      <td>PTS</td>\n",
              "    </tr>\n",
              "    <tr>\n",
              "      <th>415</th>\n",
              "      <td>Rk</td>\n",
              "      <td>Player</td>\n",
              "      <td>Pos</td>\n",
              "      <td>Age</td>\n",
              "      <td>Tm</td>\n",
              "      <td>G</td>\n",
              "      <td>GS</td>\n",
              "      <td>MP</td>\n",
              "      <td>FG</td>\n",
              "      <td>FGA</td>\n",
              "      <td>...</td>\n",
              "      <td>FT%</td>\n",
              "      <td>ORB</td>\n",
              "      <td>DRB</td>\n",
              "      <td>TRB</td>\n",
              "      <td>AST</td>\n",
              "      <td>STL</td>\n",
              "      <td>BLK</td>\n",
              "      <td>TOV</td>\n",
              "      <td>PF</td>\n",
              "      <td>PTS</td>\n",
              "    </tr>\n",
              "    <tr>\n",
              "      <th>439</th>\n",
              "      <td>Rk</td>\n",
              "      <td>Player</td>\n",
              "      <td>Pos</td>\n",
              "      <td>Age</td>\n",
              "      <td>Tm</td>\n",
              "      <td>G</td>\n",
              "      <td>GS</td>\n",
              "      <td>MP</td>\n",
              "      <td>FG</td>\n",
              "      <td>FGA</td>\n",
              "      <td>...</td>\n",
              "      <td>FT%</td>\n",
              "      <td>ORB</td>\n",
              "      <td>DRB</td>\n",
              "      <td>TRB</td>\n",
              "      <td>AST</td>\n",
              "      <td>STL</td>\n",
              "      <td>BLK</td>\n",
              "      <td>TOV</td>\n",
              "      <td>PF</td>\n",
              "      <td>PTS</td>\n",
              "    </tr>\n",
              "    <tr>\n",
              "      <th>464</th>\n",
              "      <td>Rk</td>\n",
              "      <td>Player</td>\n",
              "      <td>Pos</td>\n",
              "      <td>Age</td>\n",
              "      <td>Tm</td>\n",
              "      <td>G</td>\n",
              "      <td>GS</td>\n",
              "      <td>MP</td>\n",
              "      <td>FG</td>\n",
              "      <td>FGA</td>\n",
              "      <td>...</td>\n",
              "      <td>FT%</td>\n",
              "      <td>ORB</td>\n",
              "      <td>DRB</td>\n",
              "      <td>TRB</td>\n",
              "      <td>AST</td>\n",
              "      <td>STL</td>\n",
              "      <td>BLK</td>\n",
              "      <td>TOV</td>\n",
              "      <td>PF</td>\n",
              "      <td>PTS</td>\n",
              "    </tr>\n",
              "    <tr>\n",
              "      <th>489</th>\n",
              "      <td>Rk</td>\n",
              "      <td>Player</td>\n",
              "      <td>Pos</td>\n",
              "      <td>Age</td>\n",
              "      <td>Tm</td>\n",
              "      <td>G</td>\n",
              "      <td>GS</td>\n",
              "      <td>MP</td>\n",
              "      <td>FG</td>\n",
              "      <td>FGA</td>\n",
              "      <td>...</td>\n",
              "      <td>FT%</td>\n",
              "      <td>ORB</td>\n",
              "      <td>DRB</td>\n",
              "      <td>TRB</td>\n",
              "      <td>AST</td>\n",
              "      <td>STL</td>\n",
              "      <td>BLK</td>\n",
              "      <td>TOV</td>\n",
              "      <td>PF</td>\n",
              "      <td>PTS</td>\n",
              "    </tr>\n",
              "    <tr>\n",
              "      <th>512</th>\n",
              "      <td>Rk</td>\n",
              "      <td>Player</td>\n",
              "      <td>Pos</td>\n",
              "      <td>Age</td>\n",
              "      <td>Tm</td>\n",
              "      <td>G</td>\n",
              "      <td>GS</td>\n",
              "      <td>MP</td>\n",
              "      <td>FG</td>\n",
              "      <td>FGA</td>\n",
              "      <td>...</td>\n",
              "      <td>FT%</td>\n",
              "      <td>ORB</td>\n",
              "      <td>DRB</td>\n",
              "      <td>TRB</td>\n",
              "      <td>AST</td>\n",
              "      <td>STL</td>\n",
              "      <td>BLK</td>\n",
              "      <td>TOV</td>\n",
              "      <td>PF</td>\n",
              "      <td>PTS</td>\n",
              "    </tr>\n",
              "    <tr>\n",
              "      <th>533</th>\n",
              "      <td>Rk</td>\n",
              "      <td>Player</td>\n",
              "      <td>Pos</td>\n",
              "      <td>Age</td>\n",
              "      <td>Tm</td>\n",
              "      <td>G</td>\n",
              "      <td>GS</td>\n",
              "      <td>MP</td>\n",
              "      <td>FG</td>\n",
              "      <td>FGA</td>\n",
              "      <td>...</td>\n",
              "      <td>FT%</td>\n",
              "      <td>ORB</td>\n",
              "      <td>DRB</td>\n",
              "      <td>TRB</td>\n",
              "      <td>AST</td>\n",
              "      <td>STL</td>\n",
              "      <td>BLK</td>\n",
              "      <td>TOV</td>\n",
              "      <td>PF</td>\n",
              "      <td>PTS</td>\n",
              "    </tr>\n",
              "    <tr>\n",
              "      <th>560</th>\n",
              "      <td>Rk</td>\n",
              "      <td>Player</td>\n",
              "      <td>Pos</td>\n",
              "      <td>Age</td>\n",
              "      <td>Tm</td>\n",
              "      <td>G</td>\n",
              "      <td>GS</td>\n",
              "      <td>MP</td>\n",
              "      <td>FG</td>\n",
              "      <td>FGA</td>\n",
              "      <td>...</td>\n",
              "      <td>FT%</td>\n",
              "      <td>ORB</td>\n",
              "      <td>DRB</td>\n",
              "      <td>TRB</td>\n",
              "      <td>AST</td>\n",
              "      <td>STL</td>\n",
              "      <td>BLK</td>\n",
              "      <td>TOV</td>\n",
              "      <td>PF</td>\n",
              "      <td>PTS</td>\n",
              "    </tr>\n",
              "    <tr>\n",
              "      <th>581</th>\n",
              "      <td>Rk</td>\n",
              "      <td>Player</td>\n",
              "      <td>Pos</td>\n",
              "      <td>Age</td>\n",
              "      <td>Tm</td>\n",
              "      <td>G</td>\n",
              "      <td>GS</td>\n",
              "      <td>MP</td>\n",
              "      <td>FG</td>\n",
              "      <td>FGA</td>\n",
              "      <td>...</td>\n",
              "      <td>FT%</td>\n",
              "      <td>ORB</td>\n",
              "      <td>DRB</td>\n",
              "      <td>TRB</td>\n",
              "      <td>AST</td>\n",
              "      <td>STL</td>\n",
              "      <td>BLK</td>\n",
              "      <td>TOV</td>\n",
              "      <td>PF</td>\n",
              "      <td>PTS</td>\n",
              "    </tr>\n",
              "    <tr>\n",
              "      <th>609</th>\n",
              "      <td>Rk</td>\n",
              "      <td>Player</td>\n",
              "      <td>Pos</td>\n",
              "      <td>Age</td>\n",
              "      <td>Tm</td>\n",
              "      <td>G</td>\n",
              "      <td>GS</td>\n",
              "      <td>MP</td>\n",
              "      <td>FG</td>\n",
              "      <td>FGA</td>\n",
              "      <td>...</td>\n",
              "      <td>FT%</td>\n",
              "      <td>ORB</td>\n",
              "      <td>DRB</td>\n",
              "      <td>TRB</td>\n",
              "      <td>AST</td>\n",
              "      <td>STL</td>\n",
              "      <td>BLK</td>\n",
              "      <td>TOV</td>\n",
              "      <td>PF</td>\n",
              "      <td>PTS</td>\n",
              "    </tr>\n",
              "    <tr>\n",
              "      <th>640</th>\n",
              "      <td>Rk</td>\n",
              "      <td>Player</td>\n",
              "      <td>Pos</td>\n",
              "      <td>Age</td>\n",
              "      <td>Tm</td>\n",
              "      <td>G</td>\n",
              "      <td>GS</td>\n",
              "      <td>MP</td>\n",
              "      <td>FG</td>\n",
              "      <td>FGA</td>\n",
              "      <td>...</td>\n",
              "      <td>FT%</td>\n",
              "      <td>ORB</td>\n",
              "      <td>DRB</td>\n",
              "      <td>TRB</td>\n",
              "      <td>AST</td>\n",
              "      <td>STL</td>\n",
              "      <td>BLK</td>\n",
              "      <td>TOV</td>\n",
              "      <td>PF</td>\n",
              "      <td>PTS</td>\n",
              "    </tr>\n",
              "    <tr>\n",
              "      <th>667</th>\n",
              "      <td>Rk</td>\n",
              "      <td>Player</td>\n",
              "      <td>Pos</td>\n",
              "      <td>Age</td>\n",
              "      <td>Tm</td>\n",
              "      <td>G</td>\n",
              "      <td>GS</td>\n",
              "      <td>MP</td>\n",
              "      <td>FG</td>\n",
              "      <td>FGA</td>\n",
              "      <td>...</td>\n",
              "      <td>FT%</td>\n",
              "      <td>ORB</td>\n",
              "      <td>DRB</td>\n",
              "      <td>TRB</td>\n",
              "      <td>AST</td>\n",
              "      <td>STL</td>\n",
              "      <td>BLK</td>\n",
              "      <td>TOV</td>\n",
              "      <td>PF</td>\n",
              "      <td>PTS</td>\n",
              "    </tr>\n",
              "  </tbody>\n",
              "</table>\n",
              "<p>26 rows × 30 columns</p>\n",
              "</div>"
            ]
          },
          "metadata": {},
          "execution_count": 10
        }
      ],
      "metadata": {
        "id": "6St9yeuZg9rf",
        "colab_type": "code",
        "outputId": "52413e55-62b5-4d5d-9f20-b32d9b60dc7e",
        "colab": {
          "base_uri": "https://localhost:8080/",
          "height": 875
        }
      }
    },
    {
      "cell_type": "code",
      "execution_count": 11,
      "source": [
        "len(df2020[df2020.Age == 'Age'])"
      ],
      "outputs": [
        {
          "output_type": "execute_result",
          "data": {
            "text/plain": [
              "26"
            ]
          },
          "metadata": {},
          "execution_count": 11
        }
      ],
      "metadata": {
        "id": "rdRg9UDI5lus",
        "colab_type": "code",
        "outputId": "ef54c243-cf5b-4695-f780-7a8483ec7b51",
        "colab": {
          "base_uri": "https://localhost:8080/",
          "height": 35
        }
      }
    },
    {
      "cell_type": "code",
      "execution_count": 12,
      "source": [
        "df = df2020.drop(df2020[df2020.Age == 'Age'].index)"
      ],
      "outputs": [],
      "metadata": {
        "id": "lG34yiD5e_Cs",
        "colab_type": "code",
        "colab": {}
      }
    },
    {
      "cell_type": "code",
      "execution_count": 13,
      "source": [
        "df.shape"
      ],
      "outputs": [
        {
          "output_type": "execute_result",
          "data": {
            "text/plain": [
              "(651, 30)"
            ]
          },
          "metadata": {},
          "execution_count": 13
        }
      ],
      "metadata": {
        "id": "1DwL0sq-u7wF",
        "colab_type": "code",
        "outputId": "6b159909-d654-46da-fc54-cdeab3dd5703",
        "colab": {
          "base_uri": "https://localhost:8080/",
          "height": 35
        }
      }
    },
    {
      "cell_type": "markdown",
      "source": [
        "## Quick Exploratory Data Analysis"
      ],
      "metadata": {
        "id": "o4x9M9ArXl7l",
        "colab_type": "text"
      }
    },
    {
      "cell_type": "code",
      "execution_count": 14,
      "source": [
        "import seaborn as sns"
      ],
      "outputs": [],
      "metadata": {
        "id": "Vw0kwGHNgSMS",
        "colab_type": "code",
        "colab": {}
      }
    },
    {
      "cell_type": "markdown",
      "source": [
        "Making the histogram"
      ],
      "metadata": {
        "id": "Vw77h9jPEd2z",
        "colab_type": "text"
      }
    },
    {
      "cell_type": "code",
      "execution_count": 15,
      "source": [
        "sns.distplot(df.PTS, \r\n",
        "             kde=False)"
      ],
      "outputs": [
        {
          "output_type": "stream",
          "name": "stderr",
          "text": [
            "C:\\Users\\saura\\anaconda3\\envs\\ml-agents\\lib\\site-packages\\seaborn\\distributions.py:2557: FutureWarning: `distplot` is a deprecated function and will be removed in a future version. Please adapt your code to use either `displot` (a figure-level function with similar flexibility) or `histplot` (an axes-level function for histograms).\n",
            "  warnings.warn(msg, FutureWarning)\n"
          ]
        },
        {
          "output_type": "execute_result",
          "data": {
            "text/plain": [
              "<AxesSubplot:xlabel='PTS'>"
            ]
          },
          "metadata": {},
          "execution_count": 15
        },
        {
          "output_type": "display_data",
          "data": {
            "text/plain": [
              "<Figure size 432x288 with 1 Axes>"
            ],
            "image/png": "[encoded data removed]"
          },
          "metadata": {
            "needs_background": "light"
          }
        }
      ],
      "metadata": {
        "id": "NqU0tBcuh-5V",
        "colab_type": "code",
        "outputId": "5dee0c28-2fff-4394-d464-e3fba3e58462",
        "colab": {
          "base_uri": "https://localhost:8080/",
          "height": 297
        }
      }
    },
    {
      "cell_type": "markdown",
      "source": [
        "Change bar line color"
      ],
      "metadata": {
        "id": "aXcBxnrBEWGj",
        "colab_type": "text"
      }
    },
    {
      "cell_type": "code",
      "execution_count": 17,
      "source": [
        "sns.distplot(df.PTS, \r\n",
        "             kde=False,\r\n",
        "             hist_kws=dict(edgecolor=\"black\", linewidth=2))"
      ],
      "outputs": [
        {
          "output_type": "execute_result",
          "data": {
            "text/plain": [
              "<AxesSubplot:xlabel='PTS'>"
            ]
          },
          "metadata": {},
          "execution_count": 17
        },
        {
          "output_type": "display_data",
          "data": {
            "text/plain": [
              "<Figure size 432x288 with 1 Axes>"
            ],
            "image/png": "[encoded data removed]"
          },
          "metadata": {
            "needs_background": "light"
          }
        }
      ],
      "metadata": {
        "id": "ImyO9mMGkkTm",
        "colab_type": "code",
        "outputId": "f49041de-56a2-4c3f-a6f3-da321b092c3d",
        "colab": {
          "base_uri": "https://localhost:8080/",
          "height": 297
        }
      }
    },
    {
      "cell_type": "markdown",
      "source": [
        "Change bar fill colors"
      ],
      "metadata": {
        "id": "uqkKFD4LEjoH",
        "colab_type": "text"
      }
    },
    {
      "cell_type": "code",
      "execution_count": 18,
      "source": [
        "sns.distplot(df.PTS,\r\n",
        "             kde=False,\r\n",
        "             hist_kws=dict(edgecolor=\"black\", linewidth=2),\r\n",
        "             color='#00BFC4')"
      ],
      "outputs": [
        {
          "output_type": "execute_result",
          "data": {
            "text/plain": [
              "<AxesSubplot:xlabel='PTS'>"
            ]
          },
          "metadata": {},
          "execution_count": 18
        },
        {
          "output_type": "display_data",
          "data": {
            "text/plain": [
              "<Figure size 432x288 with 1 Axes>"
            ],
            "image/png": "[encoded data removed]"
          },
          "metadata": {
            "needs_background": "light"
          }
        }
      ],
      "metadata": {
        "id": "RtdOAqjL34Vl",
        "colab_type": "code",
        "outputId": "4c8ebb7d-b4d1-41da-c460-bebd9ab4a33b",
        "colab": {
          "base_uri": "https://localhost:8080/",
          "height": 297
        }
      }
    }
  ]
}